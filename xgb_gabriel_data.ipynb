{
 "cells": [
  {
   "cell_type": "code",
   "execution_count": 996,
   "metadata": {},
   "outputs": [],
   "source": [
    "import xgboost as xgb\n",
    "import numpy as np\n",
    "import pandas as pd\n",
    "import tensorflow as tf\n",
    "import matplotlib.pyplot as plt\n",
    "from sklearn.model_selection import train_test_split\n",
    "from sklearn.metrics import accuracy_score\n",
    "from sklearn.metrics import roc_curve\n",
    "from sklearn.metrics import roc_auc_score\n",
    "\n",
    "signal = pd.read_csv(\"signal.csv\")\n",
    "bkgnd = pd.read_csv(\"background.csv\")\n",
    "test_data = pd.read_csv(\"Test.csv\")"
   ]
  },
  {
   "cell_type": "code",
   "execution_count": 997,
   "metadata": {},
   "outputs": [],
   "source": [
    "test_data = test_data.drop(['Z_m', 'dimuon_m'], axis=1)"
   ]
  },
  {
   "cell_type": "code",
   "execution_count": 998,
   "metadata": {},
   "outputs": [
    {
     "name": "stdout",
     "output_type": "stream",
     "text": [
      "<class 'pandas.core.frame.DataFrame'>\n",
      "RangeIndex: 311198 entries, 0 to 311197\n",
      "Data columns (total 12 columns):\n",
      " #   Column              Non-Null Count   Dtype  \n",
      "---  ------              --------------   -----  \n",
      " 0   dilepton_m          311198 non-null  float64\n",
      " 1   leading_lepton_pt   311198 non-null  float64\n",
      " 2   trailing_lepton_pt  311198 non-null  float64\n",
      " 3   leading_muon_pt     311198 non-null  float64\n",
      " 4   trailing_muon_pt    311198 non-null  float64\n",
      " 5   dimuon_pt           311198 non-null  float64\n",
      " 6   rIsoOverPtl1        311198 non-null  float64\n",
      " 7   rIsoOverPtl2        311198 non-null  float64\n",
      " 8   rIsoOverPtm1        311198 non-null  float64\n",
      " 9   rIsoOverPtm2        311198 non-null  float64\n",
      " 10  ipSm1               311198 non-null  float64\n",
      " 11  ipSm2               311198 non-null  float64\n",
      "dtypes: float64(12)\n",
      "memory usage: 28.5 MB\n"
     ]
    }
   ],
   "source": [
    "test_data.info()"
   ]
  },
  {
   "cell_type": "code",
   "execution_count": 999,
   "metadata": {},
   "outputs": [],
   "source": [
    "signal['signal/bkgnd'] = 1\n",
    "bkgnd['signal/bkgnd'] = 0"
   ]
  },
  {
   "cell_type": "code",
   "execution_count": 1000,
   "metadata": {},
   "outputs": [],
   "source": [
    "signal = signal.drop(['Z_m', 'dimuon_m'], axis=1)\n",
    "bkgnd = bkgnd.drop(['Z_m', 'dimuon_m'], axis=1)"
   ]
  },
  {
   "cell_type": "code",
   "execution_count": 1001,
   "metadata": {},
   "outputs": [
    {
     "name": "stdout",
     "output_type": "stream",
     "text": [
      "<class 'pandas.core.frame.DataFrame'>\n",
      "Int64Index: 143823 entries, 0 to 133080\n",
      "Data columns (total 13 columns):\n",
      " #   Column              Non-Null Count   Dtype  \n",
      "---  ------              --------------   -----  \n",
      " 0   dilepton_m          143823 non-null  float64\n",
      " 1   leading_lepton_pt   143823 non-null  float64\n",
      " 2   trailing_lepton_pt  143823 non-null  float64\n",
      " 3   leading_muon_pt     143823 non-null  float64\n",
      " 4   trailing_muon_pt    143823 non-null  float64\n",
      " 5   dimuon_pt           143823 non-null  float64\n",
      " 6   rIsoOverPtl1        143823 non-null  float64\n",
      " 7   rIsoOverPtl2        143823 non-null  float64\n",
      " 8   rIsoOverPtm1        143823 non-null  float64\n",
      " 9   rIsoOverPtm2        143823 non-null  float64\n",
      " 10  ipSm1               143823 non-null  float64\n",
      " 11  ipSm2               143823 non-null  float64\n",
      " 12  signal/bkgnd        143823 non-null  int64  \n",
      "dtypes: float64(12), int64(1)\n",
      "memory usage: 15.4 MB\n"
     ]
    }
   ],
   "source": [
    "df = pd.concat([signal,bkgnd])\n",
    "df.info()"
   ]
  },
  {
   "cell_type": "code",
   "execution_count": 1002,
   "metadata": {},
   "outputs": [],
   "source": [
    "#GENERAL DATA\n",
    "train_x = df.drop(['signal/bkgnd'], axis=1) #features = all minus (signal/bkgnd and masses)\n",
    "train_y = df['signal/bkgnd'] #label = signal/bkgnd"
   ]
  },
  {
   "cell_type": "code",
   "execution_count": 1003,
   "metadata": {},
   "outputs": [],
   "source": [
    "#SIGNAL\n",
    "signal_x = signal.drop(['signal/bkgnd'], axis=1)\n",
    "signal_y = signal['signal/bkgnd']"
   ]
  },
  {
   "cell_type": "code",
   "execution_count": 1004,
   "metadata": {},
   "outputs": [],
   "source": [
    "#BKGND\n",
    "bkgnd_x = bkgnd.drop(['signal/bkgnd'], axis=1)\n",
    "bkgnd_y = bkgnd['signal/bkgnd']"
   ]
  },
  {
   "cell_type": "code",
   "execution_count": 1005,
   "metadata": {},
   "outputs": [],
   "source": [
    "#SAMPLING DATA\n",
    "#GENERAL\n",
    "train_x, test_x, train_y, test_y = train_test_split(train_x, train_y, \n",
    "                                                  test_size=0.3, \n",
    "                                                  random_state=1)\n",
    "\n",
    "#SIGNAL\n",
    "train_signal_x, test_signal_x, train_signal_y, test_signal_y = train_test_split(signal_x, signal_y, \n",
    "                                                  test_size=0.3, \n",
    "                                                  random_state=1)\n",
    "#BKGND\n",
    "train_bkgnd_x, test_bkgnd_x, train_bkgnd_y, test_bkgnd_y = train_test_split(bkgnd_x, bkgnd_y, \n",
    "                                                  test_size=0.3, \n",
    "                                                  random_state=1)"
   ]
  },
  {
   "cell_type": "code",
   "execution_count": 1006,
   "metadata": {},
   "outputs": [
    {
     "data": {
      "text/plain": [
       "XGBClassifier(base_score=0.5, booster='gbtree', colsample_bylevel=1,\n",
       "              colsample_bynode=1, colsample_bytree=1, gamma=0, gpu_id=-1,\n",
       "              importance_type='gain', interaction_constraints='',\n",
       "              learning_rate=0.028, max_delta_step=0, max_depth=3,\n",
       "              min_child_weight=1, missing=nan, monotone_constraints='()',\n",
       "              n_estimators=100, n_jobs=0, num_parallel_tree=1,\n",
       "              objective='binary:logistic', random_state=0, reg_alpha=0,\n",
       "              reg_lambda=1, scale_pos_weight=1, subsample=1,\n",
       "              tree_method='exact', validate_parameters=1, verbosity=None)"
      ]
     },
     "execution_count": 1006,
     "metadata": {},
     "output_type": "execute_result"
    }
   ],
   "source": [
    "#XGBClassifier scikit-learn API \n",
    "model = xgb.XGBClassifier(objective = 'binary:logistic', \n",
    "                          max_depth = 3, \n",
    "                          learning_rate=0.028 \n",
    "                          #gamma=10, \n",
    "                          #min_child_weight=5\n",
    "                         )\n",
    "#fit = training\n",
    "model.fit(train_x, train_y)"
   ]
  },
  {
   "cell_type": "code",
   "execution_count": 1007,
   "metadata": {},
   "outputs": [
    {
     "name": "stdout",
     "output_type": "stream",
     "text": [
      "86.57 %\n"
     ]
    }
   ],
   "source": [
    "predict_signal = model.predict(test_signal_x)\n",
    "print(np.round(accuracy_score(test_signal_y,predict_signal)*100, 2),'%')"
   ]
  },
  {
   "cell_type": "code",
   "execution_count": 1055,
   "metadata": {},
   "outputs": [
    {
     "name": "stdout",
     "output_type": "stream",
     "text": [
      "<class 'pandas.core.frame.DataFrame'>\n",
      "RangeIndex: 3223 entries, 0 to 3222\n",
      "Data columns (total 2 columns):\n",
      " #   Column  Non-Null Count  Dtype  \n",
      "---  ------  --------------  -----  \n",
      " 0   0       3223 non-null   float32\n",
      " 1   1       3223 non-null   float32\n",
      "dtypes: float32(2)\n",
      "memory usage: 25.3 KB\n"
     ]
    }
   ],
   "source": [
    "predict_prob = model.predict_proba(test_signal_x)\n",
    "#converting prob values to list\n",
    "df_prob = pd.DataFrame(predict_prob)\n",
    "s_prob_signal = df_prob[df_prob.columns[1]] \n",
    "list_prob_signal = s_prob_signal.values.tolist()\n",
    "df_prob.info(5)"
   ]
  },
  {
   "cell_type": "code",
   "execution_count": 1009,
   "metadata": {},
   "outputs": [
    {
     "data": {
      "image/png": "[encoded data removed]",
      "text/plain": [
       "<Figure size 432x288 with 1 Axes>"
      ]
     },
     "metadata": {
      "needs_background": "light"
     },
     "output_type": "display_data"
    }
   ],
   "source": [
    "hist_signal = plt.hist(list_prob_signal, range=(0,1))"
   ]
  },
  {
   "cell_type": "code",
   "execution_count": 1010,
   "metadata": {},
   "outputs": [],
   "source": [
    "predict_prob_bkgnd = model.predict_proba(test_bkgnd_x)\n",
    "df_prob_bkgnd = pd.DataFrame(predict_prob_bkgnd)\n",
    "s_prob_bkgnd = df_prob_bkgnd[df_prob_bkgnd.columns[1]] \n",
    "list_prob_bkgnd = s_prob_bkgnd.values.tolist()"
   ]
  },
  {
   "cell_type": "code",
   "execution_count": 1011,
   "metadata": {},
   "outputs": [
    {
     "data": {
      "image/png": "[encoded data removed]",
      "text/plain": [
       "<Figure size 432x288 with 1 Axes>"
      ]
     },
     "metadata": {
      "needs_background": "light"
     },
     "output_type": "display_data"
    }
   ],
   "source": [
    "hist_bkgnd = plt.hist(list_prob_bkgnd, range=(0,1))"
   ]
  },
  {
   "cell_type": "code",
   "execution_count": 1012,
   "metadata": {},
   "outputs": [
    {
     "data": {
      "text/plain": [
       "Text(0.5, 1.0, 'Signal vs Bkgnd (XGB)')"
      ]
     },
     "execution_count": 1012,
     "metadata": {},
     "output_type": "execute_result"
    },
    {
     "data": {
      "image/png": "[encoded data removed]",
      "text/plain": [
       "<Figure size 432x288 with 1 Axes>"
      ]
     },
     "metadata": {
      "needs_background": "light"
     },
     "output_type": "display_data"
    }
   ],
   "source": [
    "plt.hist(list_prob_signal, range=(0,1), alpha=0.8,label='Signal')\n",
    "plt.hist(list_prob_bkgnd, range=(0,1), alpha=0.7, label='Bkgnd')\n",
    "plt.legend(loc='upper right')\n",
    "plt.xlabel('Signal (Probabilities)')\n",
    "plt.ylabel('Events')\n",
    "plt.title('Signal vs Bkgnd (XGB)')"
   ]
  },
  {
   "cell_type": "code",
   "execution_count": 1013,
   "metadata": {},
   "outputs": [
    {
     "name": "stdout",
     "output_type": "stream",
     "text": [
      "ROC AUC=  0.9971849040010481\n"
     ]
    },
    {
     "data": {
      "image/png": "[encoded data removed]",
      "text/plain": [
       "<Figure size 432x288 with 1 Axes>"
      ]
     },
     "metadata": {
      "needs_background": "light"
     },
     "output_type": "display_data"
    }
   ],
   "source": [
    "model_predict1 = model.predict_proba(test_x)\n",
    "model_predict1 = model_predict1[:,1]\n",
    "auc_score1 = roc_auc_score(test_y, model_predict1)\n",
    "fpr1, tpr1, _ = roc_curve(test_y, model_predict1)\n",
    "testp = plt.plot(tpr1, 1-fpr1, label='test')\n",
    "print('ROC AUC= ', auc_score1)\n",
    "plt.show()"
   ]
  },
  {
   "cell_type": "code",
   "execution_count": 1014,
   "metadata": {},
   "outputs": [
    {
     "name": "stdout",
     "output_type": "stream",
     "text": [
      "ROC AUC=  0.9973426763828337\n"
     ]
    },
    {
     "data": {
      "image/png": "[encoded data removed]",
      "text/plain": [
       "<Figure size 432x288 with 1 Axes>"
      ]
     },
     "metadata": {
      "needs_background": "light"
     },
     "output_type": "display_data"
    }
   ],
   "source": [
    "model_predict2 = model.predict_proba(train_x)\n",
    "model_predict2 = model_predict2[:,1]\n",
    "auc_score = roc_auc_score(train_y, model_predict2)\n",
    "fpr2, tpr2, _ = roc_curve(train_y, model_predict2)\n",
    "trainp = plt.plot(tpr2, 1-fpr2, label='train')\n",
    "print('ROC AUC= ', auc_score)\n",
    "plt.show()"
   ]
  },
  {
   "cell_type": "code",
   "execution_count": 1015,
   "metadata": {},
   "outputs": [
    {
     "data": {
      "image/png": "[encoded data removed]",
      "text/plain": [
       "<Figure size 432x288 with 1 Axes>"
      ]
     },
     "metadata": {
      "needs_background": "light"
     },
     "output_type": "display_data"
    }
   ],
   "source": [
    "plt.plot(tpr1, 1-fpr1, label='Test')\n",
    "plt.plot(tpr2, 1-fpr2, label='Train')\n",
    "plt.legend(loc='lower left')\n",
    "plt.xlabel('signal efficiency')\n",
    "plt.ylabel('background rejection')\n",
    "plt.show()"
   ]
  },
  {
   "cell_type": "code",
   "execution_count": 1044,
   "metadata": {},
   "outputs": [],
   "source": [
    "test_prob = model.predict_proba(test_data)\n",
    "#converting prob values to list\n",
    "df_test = pd.DataFrame(test_prob)\n",
    "df_test_signal= df_test[df_test.columns[1]]\n",
    "list_test_signal = df_test_signal.values.tolist()"
   ]
  },
  {
   "cell_type": "code",
   "execution_count": 1050,
   "metadata": {},
   "outputs": [],
   "source": [
    "signal_val = []\n",
    "for i in list_test_signal:\n",
    "    if(i >=0.5):\n",
    "        signal_val.append(i)\n",
    "#df_test_50 = df_test[df_test.signal >= 0.5]"
   ]
  },
  {
   "cell_type": "code",
   "execution_count": 1054,
   "metadata": {},
   "outputs": [
    {
     "data": {
      "text/plain": [
       "3063"
      ]
     },
     "execution_count": 1054,
     "metadata": {},
     "output_type": "execute_result"
    }
   ],
   "source": [
    "len(signal_val)"
   ]
  },
  {
   "cell_type": "code",
   "execution_count": 1038,
   "metadata": {},
   "outputs": [
    {
     "data": {
      "text/plain": [
       "Text(0, 0.5, 'Events')"
      ]
     },
     "execution_count": 1038,
     "metadata": {},
     "output_type": "execute_result"
    },
    {
     "data": {
      "image/png": "[encoded data removed]",
      "text/plain": [
       "<Figure size 432x288 with 1 Axes>"
      ]
     },
     "metadata": {
      "needs_background": "light"
     },
     "output_type": "display_data"
    }
   ],
   "source": [
    "test_hist_signal = plt.hist(list_test_signal, range=(0,1), label='signal')\n",
    "plt.legend(loc='upper right')\n",
    "plt.xlabel('Signal (Probabilities)')\n",
    "plt.ylabel('Events')"
   ]
  },
  {
   "cell_type": "code",
   "execution_count": 1028,
   "metadata": {},
   "outputs": [
    {
     "data": {
      "image/png": "[encoded data removed]",
      "text/plain": [
       "<Figure size 432x288 with 1 Axes>"
      ]
     },
     "metadata": {
      "needs_background": "light"
     },
     "output_type": "display_data"
    }
   ],
   "source": [
    "df_test_bkgnd= df_test[df_test.columns[0]]\n",
    "list_test_bkgnd = df_test_bkgnd.values.tolist()\n",
    "test_hist_bkgnd = plt.hist(list_test_bkgnd, range=(0,1))"
   ]
  },
  {
   "cell_type": "code",
   "execution_count": 1057,
   "metadata": {},
   "outputs": [
    {
     "data": {
      "text/plain": [
       "308135"
      ]
     },
     "execution_count": 1057,
     "metadata": {},
     "output_type": "execute_result"
    }
   ],
   "source": [
    "bkgnd_val = []\n",
    "for j in list_test_bkgnd:\n",
    "    if(j >=0.5):\n",
    "        bkgnd_val.append(j)\n",
    "len(bkgnd_val)"
   ]
  },
  {
   "cell_type": "code",
   "execution_count": null,
   "metadata": {},
   "outputs": [],
   "source": []
  }
 ],
 "metadata": {
  "kernelspec": {
   "display_name": "xgb",
   "language": "python",
   "name": "xgb"
  },
  "language_info": {
   "codemirror_mode": {
    "name": "ipython",
    "version": 3
   },
   "file_extension": ".py",
   "mimetype": "text/x-python",
   "name": "python",
   "nbconvert_exporter": "python",
   "pygments_lexer": "ipython3",
   "version": "3.8.3"
  }
 },
 "nbformat": 4,
 "nbformat_minor": 4
}
