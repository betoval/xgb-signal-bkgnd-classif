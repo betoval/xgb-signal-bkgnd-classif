{
 "cells": [
  {
   "cell_type": "code",
   "execution_count": 2,
   "metadata": {},
   "outputs": [],
   "source": [
    "import xgboost as xgb\n",
    "import numpy as np\n",
    "import pandas as pd\n",
    "import tensorflow as tf\n",
    "import matplotlib.pyplot as plt\n",
    "from sklearn.model_selection import train_test_split\n",
    "from sklearn.metrics import accuracy_score\n",
    "from sklearn.metrics import roc_curve\n",
    "from sklearn.metrics import roc_auc_score\n",
    "\n",
    "signal = pd.read_csv(\"signal.csv\")\n",
    "bkgnd = pd.read_csv(\"background.csv\")\n",
    "test_data = pd.read_csv(\"Test.csv\")"
   ]
  },
  {
   "cell_type": "code",
   "execution_count": 3,
   "metadata": {},
   "outputs": [],
   "source": [
    "test_data = test_data.drop(['Z_m', 'dimuon_m'], axis=1)"
   ]
  },
  {
   "cell_type": "code",
   "execution_count": 4,
   "metadata": {},
   "outputs": [
    {
     "name": "stdout",
     "output_type": "stream",
     "text": [
      "<class 'pandas.core.frame.DataFrame'>\n",
      "RangeIndex: 311198 entries, 0 to 311197\n",
      "Data columns (total 12 columns):\n",
      " #   Column              Non-Null Count   Dtype  \n",
      "---  ------              --------------   -----  \n",
      " 0   dilepton_m          311198 non-null  float64\n",
      " 1   leading_lepton_pt   311198 non-null  float64\n",
      " 2   trailing_lepton_pt  311198 non-null  float64\n",
      " 3   leading_muon_pt     311198 non-null  float64\n",
      " 4   trailing_muon_pt    311198 non-null  float64\n",
      " 5   dimuon_pt           311198 non-null  float64\n",
      " 6   rIsoOverPtl1        311198 non-null  float64\n",
      " 7   rIsoOverPtl2        311198 non-null  float64\n",
      " 8   rIsoOverPtm1        311198 non-null  float64\n",
      " 9   rIsoOverPtm2        311198 non-null  float64\n",
      " 10  ipSm1               311198 non-null  float64\n",
      " 11  ipSm2               311198 non-null  float64\n",
      "dtypes: float64(12)\n",
      "memory usage: 28.5 MB\n"
     ]
    }
   ],
   "source": [
    "test_data.info()"
   ]
  },
  {
   "cell_type": "code",
   "execution_count": 5,
   "metadata": {},
   "outputs": [],
   "source": [
    "signal['signal/bkgnd'] = 1\n",
    "bkgnd['signal/bkgnd'] = 0"
   ]
  },
  {
   "cell_type": "code",
   "execution_count": 6,
   "metadata": {},
   "outputs": [],
   "source": [
    "signal = signal.drop(['Z_m', 'dimuon_m'], axis=1)\n",
    "bkgnd = bkgnd.drop(['Z_m', 'dimuon_m'], axis=1)"
   ]
  },
  {
   "cell_type": "code",
   "execution_count": 7,
   "metadata": {},
   "outputs": [
    {
     "name": "stdout",
     "output_type": "stream",
     "text": [
      "<class 'pandas.core.frame.DataFrame'>\n",
      "Int64Index: 143823 entries, 0 to 133080\n",
      "Data columns (total 13 columns):\n",
      " #   Column              Non-Null Count   Dtype  \n",
      "---  ------              --------------   -----  \n",
      " 0   dilepton_m          143823 non-null  float64\n",
      " 1   leading_lepton_pt   143823 non-null  float64\n",
      " 2   trailing_lepton_pt  143823 non-null  float64\n",
      " 3   leading_muon_pt     143823 non-null  float64\n",
      " 4   trailing_muon_pt    143823 non-null  float64\n",
      " 5   dimuon_pt           143823 non-null  float64\n",
      " 6   rIsoOverPtl1        143823 non-null  float64\n",
      " 7   rIsoOverPtl2        143823 non-null  float64\n",
      " 8   rIsoOverPtm1        143823 non-null  float64\n",
      " 9   rIsoOverPtm2        143823 non-null  float64\n",
      " 10  ipSm1               143823 non-null  float64\n",
      " 11  ipSm2               143823 non-null  float64\n",
      " 12  signal/bkgnd        143823 non-null  int64  \n",
      "dtypes: float64(12), int64(1)\n",
      "memory usage: 15.4 MB\n"
     ]
    }
   ],
   "source": [
    "df = pd.concat([signal,bkgnd])\n",
    "df.info()"
   ]
  },
  {
   "cell_type": "code",
   "execution_count": 8,
   "metadata": {},
   "outputs": [],
   "source": [
    "#GENERAL DATA\n",
    "train_x = df.drop(['signal/bkgnd'], axis=1) #features = all minus (signal/bkgnd and masses)\n",
    "train_y = df['signal/bkgnd'] #label = signal/bkgnd"
   ]
  },
  {
   "cell_type": "code",
   "execution_count": 9,
   "metadata": {},
   "outputs": [],
   "source": [
    "#SIGNAL\n",
    "signal_x = signal.drop(['signal/bkgnd'], axis=1)\n",
    "signal_y = signal['signal/bkgnd']"
   ]
  },
  {
   "cell_type": "code",
   "execution_count": 10,
   "metadata": {},
   "outputs": [],
   "source": [
    "#BKGND\n",
    "bkgnd_x = bkgnd.drop(['signal/bkgnd'], axis=1)\n",
    "bkgnd_y = bkgnd['signal/bkgnd']"
   ]
  },
  {
   "cell_type": "code",
   "execution_count": 11,
   "metadata": {},
   "outputs": [],
   "source": [
    "#SAMPLING DATA\n",
    "#GENERAL\n",
    "train_x, test_x, train_y, test_y = train_test_split(train_x, train_y, \n",
    "                                                  test_size=0.3, \n",
    "                                                  random_state=1)\n",
    "\n",
    "#SIGNAL\n",
    "train_signal_x, test_signal_x, train_signal_y, test_signal_y = train_test_split(signal_x, signal_y, \n",
    "                                                  test_size=0.3, \n",
    "                                                  random_state=1)\n",
    "#BKGND\n",
    "train_bkgnd_x, test_bkgnd_x, train_bkgnd_y, test_bkgnd_y = train_test_split(bkgnd_x, bkgnd_y, \n",
    "                                                  test_size=0.3, \n",
    "                                                  random_state=1)"
   ]
  },
  {
   "cell_type": "code",
   "execution_count": 12,
   "metadata": {},
   "outputs": [
    {
     "data": {
      "text/plain": [
       "XGBClassifier(base_score=0.5, booster='gbtree', colsample_bylevel=1,\n",
       "              colsample_bynode=1, colsample_bytree=1, gamma=0, gpu_id=-1,\n",
       "              importance_type='gain', interaction_constraints='',\n",
       "              learning_rate=0.028, max_delta_step=0, max_depth=3,\n",
       "              min_child_weight=1, missing=nan, monotone_constraints='()',\n",
       "              n_estimators=100, n_jobs=0, num_parallel_tree=1,\n",
       "              objective='binary:logistic', random_state=0, reg_alpha=0,\n",
       "              reg_lambda=1, scale_pos_weight=1, subsample=1,\n",
       "              tree_method='exact', validate_parameters=1, verbosity=None)"
      ]
     },
     "execution_count": 12,
     "metadata": {},
     "output_type": "execute_result"
    }
   ],
   "source": [
    "#XGBClassifier scikit-learn API \n",
    "model = xgb.XGBClassifier(objective = 'binary:logistic', \n",
    "                          max_depth = 3, \n",
    "                          learning_rate=0.028 \n",
    "                          #gamma=10, \n",
    "                          #min_child_weight=5\n",
    "                         )\n",
    "#fit = training\n",
    "model.fit(train_x, train_y)"
   ]
  },
  {
   "cell_type": "code",
   "execution_count": 13,
   "metadata": {},
   "outputs": [
    {
     "name": "stdout",
     "output_type": "stream",
     "text": [
      "86.57 %\n"
     ]
    }
   ],
   "source": [
    "predict_signal = model.predict(test_signal_x)\n",
    "print(np.round(accuracy_score(test_signal_y,predict_signal)*100, 2),'%')"
   ]
  },
  {
   "cell_type": "code",
   "execution_count": 14,
   "metadata": {},
   "outputs": [
    {
     "name": "stdout",
     "output_type": "stream",
     "text": [
      "<class 'pandas.core.frame.DataFrame'>\n",
      "RangeIndex: 3223 entries, 0 to 3222\n",
      "Data columns (total 2 columns):\n",
      " #   Column  Non-Null Count  Dtype  \n",
      "---  ------  --------------  -----  \n",
      " 0   0       3223 non-null   float32\n",
      " 1   1       3223 non-null   float32\n",
      "dtypes: float32(2)\n",
      "memory usage: 25.3 KB\n"
     ]
    }
   ],
   "source": [
    "predict_prob = model.predict_proba(test_signal_x)\n",
    "#converting prob values to list\n",
    "df_prob = pd.DataFrame(predict_prob)\n",
    "s_prob_signal = df_prob[df_prob.columns[1]] \n",
    "list_prob_signal = s_prob_signal.values.tolist()\n",
    "df_prob.info(5)"
   ]
  },
  {
   "cell_type": "code",
   "execution_count": 15,
   "metadata": {},
   "outputs": [
    {
     "data": {
      "image/png": "[encoded data removed]",
      "text/plain": [
       "<Figure size 432x288 with 1 Axes>"
      ]
     },
     "metadata": {
      "needs_background": "light"
     },
     "output_type": "display_data"
    }
   ],
   "source": [
    "hist_signal = plt.hist(list_prob_signal, range=(0,1))"
   ]
  },
  {
   "cell_type": "code",
   "execution_count": 16,
   "metadata": {},
   "outputs": [],
   "source": [
    "predict_prob_bkgnd = model.predict_proba(test_bkgnd_x)\n",
    "df_prob_bkgnd = pd.DataFrame(predict_prob_bkgnd)\n",
    "s_prob_bkgnd = df_prob_bkgnd[df_prob_bkgnd.columns[1]] \n",
    "list_prob_bkgnd = s_prob_bkgnd.values.tolist()"
   ]
  },
  {
   "cell_type": "code",
   "execution_count": 17,
   "metadata": {},
   "outputs": [
    {
     "data": {
      "image/png": "[encoded data removed]",
      "text/plain": [
       "<Figure size 432x288 with 1 Axes>"
      ]
     },
     "metadata": {
      "needs_background": "light"
     },
     "output_type": "display_data"
    }
   ],
   "source": [
    "hist_bkgnd = plt.hist(list_prob_bkgnd, range=(0,1))"
   ]
  },
  {
   "cell_type": "code",
   "execution_count": 18,
   "metadata": {},
   "outputs": [
    {
     "data": {
      "text/plain": [
       "Text(0.5, 1.0, 'Signal vs Bkgnd (XGB)')"
      ]
     },
     "execution_count": 18,
     "metadata": {},
     "output_type": "execute_result"
    },
    {
     "data": {
      "image/png": "[encoded data removed]",
      "text/plain": [
       "<Figure size 432x288 with 1 Axes>"
      ]
     },
     "metadata": {
      "needs_background": "light"
     },
     "output_type": "display_data"
    }
   ],
   "source": [
    "plt.hist(list_prob_signal, range=(0,1), alpha=0.8,label='Signal')\n",
    "plt.hist(list_prob_bkgnd, range=(0,1), alpha=0.7, label='Bkgnd')\n",
    "plt.legend(loc='upper right')\n",
    "plt.xlabel('Signal (Probabilities)')\n",
    "plt.ylabel('Events')\n",
    "plt.title('Signal vs Bkgnd (XGB)')"
   ]
  },
  {
   "cell_type": "code",
   "execution_count": 19,
   "metadata": {},
   "outputs": [
    {
     "name": "stdout",
     "output_type": "stream",
     "text": [
      "ROC AUC=  0.9971849040010481\n"
     ]
    },
    {
     "data": {
      "image/png": "[encoded data removed]",
      "text/plain": [
       "<Figure size 432x288 with 1 Axes>"
      ]
     },
     "metadata": {
      "needs_background": "light"
     },
     "output_type": "display_data"
    }
   ],
   "source": [
    "model_predict1 = model.predict_proba(test_x)\n",
    "model_predict1 = model_predict1[:,1]\n",
    "auc_score1 = roc_auc_score(test_y, model_predict1)\n",
    "fpr1, tpr1, _ = roc_curve(test_y, model_predict1)\n",
    "testp = plt.plot(tpr1, 1-fpr1, label='test')\n",
    "print('ROC AUC= ', auc_score1)\n",
    "plt.show()"
   ]
  },
  {
   "cell_type": "code",
   "execution_count": 20,
   "metadata": {},
   "outputs": [
    {
     "name": "stdout",
     "output_type": "stream",
     "text": [
      "ROC AUC=  0.9973426763828337\n"
     ]
    },
    {
     "data": {
      "image/png": "[encoded data removed]",
      "text/plain": [
       "<Figure size 432x288 with 1 Axes>"
      ]
     },
     "metadata": {
      "needs_background": "light"
     },
     "output_type": "display_data"
    }
   ],
   "source": [
    "model_predict2 = model.predict_proba(train_x)\n",
    "model_predict2 = model_predict2[:,1]\n",
    "auc_score = roc_auc_score(train_y, model_predict2)\n",
    "fpr2, tpr2, _ = roc_curve(train_y, model_predict2)\n",
    "trainp = plt.plot(tpr2, 1-fpr2, label='train')\n",
    "print('ROC AUC= ', auc_score)\n",
    "plt.show()"
   ]
  },
  {
   "cell_type": "code",
   "execution_count": 21,
   "metadata": {},
   "outputs": [
    {
     "data": {
      "image/png": "[encoded data removed]",
      "text/plain": [
       "<Figure size 432x288 with 1 Axes>"
      ]
     },
     "metadata": {
      "needs_background": "light"
     },
     "output_type": "display_data"
    }
   ],
   "source": [
    "plt.plot(tpr1, 1-fpr1, label='Test=0.9971')\n",
    "plt.plot(tpr2, 1-fpr2, label='Train=0.9973')\n",
    "plt.legend(loc='lower left')\n",
    "plt.xlabel('signal efficiency')\n",
    "plt.ylabel('background rejection')\n",
    "plt.show()"
   ]
  },
  {
   "cell_type": "code",
   "execution_count": 22,
   "metadata": {},
   "outputs": [],
   "source": [
    "test_prob = model.predict_proba(test_data)\n",
    "#converting prob values to list\n",
    "df_test = pd.DataFrame(test_prob)\n",
    "df_test_signal= df_test[df_test.columns[1]]\n",
    "list_test_signal = df_test_signal.values.tolist()"
   ]
  },
  {
   "cell_type": "code",
   "execution_count": 23,
   "metadata": {},
   "outputs": [],
   "source": [
    "signal_val = []\n",
    "for i in list_test_signal:\n",
    "    if(i >=0.5):\n",
    "        signal_val.append(i)\n",
    "#df_test_50 = df_test[df_test.signal >= 0.5]"
   ]
  },
  {
   "cell_type": "code",
   "execution_count": 24,
   "metadata": {},
   "outputs": [
    {
     "data": {
      "text/plain": [
       "3063"
      ]
     },
     "execution_count": 24,
     "metadata": {},
     "output_type": "execute_result"
    }
   ],
   "source": [
    "len(signal_val)"
   ]
  },
  {
   "cell_type": "code",
   "execution_count": 25,
   "metadata": {},
   "outputs": [
    {
     "data": {
      "text/plain": [
       "Text(0, 0.5, 'Events')"
      ]
     },
     "execution_count": 25,
     "metadata": {},
     "output_type": "execute_result"
    },
    {
     "data": {
      "image/png": "[encoded data removed]",
      "text/plain": [
       "<Figure size 432x288 with 1 Axes>"
      ]
     },
     "metadata": {
      "needs_background": "light"
     },
     "output_type": "display_data"
    }
   ],
   "source": [
    "test_hist_signal = plt.hist(list_test_signal, range=(0,1), label='signal')\n",
    "plt.legend(loc='upper right')\n",
    "plt.xlabel('Signal (Probabilities)')\n",
    "plt.ylabel('Events')"
   ]
  },
  {
   "cell_type": "code",
   "execution_count": 26,
   "metadata": {},
   "outputs": [
    {
     "data": {
      "image/png": "[encoded data removed]",
      "text/plain": [
       "<Figure size 432x288 with 1 Axes>"
      ]
     },
     "metadata": {
      "needs_background": "light"
     },
     "output_type": "display_data"
    }
   ],
   "source": [
    "df_test_bkgnd= df_test[df_test.columns[0]]\n",
    "list_test_bkgnd = df_test_bkgnd.values.tolist()\n",
    "test_hist_bkgnd = plt.hist(list_test_bkgnd, range=(0,1))"
   ]
  },
  {
   "cell_type": "code",
   "execution_count": 27,
   "metadata": {},
   "outputs": [
    {
     "data": {
      "text/plain": [
       "308135"
      ]
     },
     "execution_count": 27,
     "metadata": {},
     "output_type": "execute_result"
    }
   ],
   "source": [
    "bkgnd_val = []\n",
    "for j in list_test_bkgnd:\n",
    "    if(j >=0.5):\n",
    "        bkgnd_val.append(j)\n",
    "len(bkgnd_val)"
   ]
  },
  {
   "cell_type": "code",
   "execution_count": 28,
   "metadata": {},
   "outputs": [],
   "source": [
    "test_data = pd.read_csv(\"Test.csv\")"
   ]
  },
  {
   "cell_type": "code",
   "execution_count": 29,
   "metadata": {},
   "outputs": [
    {
     "data": {
      "text/html": [
       "<div>\n",
       "<style scoped>\n",
       "    .dataframe tbody tr th:only-of-type {\n",
       "        vertical-align: middle;\n",
       "    }\n",
       "\n",
       "    .dataframe tbody tr th {\n",
       "        vertical-align: top;\n",
       "    }\n",
       "\n",
       "    .dataframe thead th {\n",
       "        text-align: right;\n",
       "    }\n",
       "</style>\n",
       "<table border=\"1\" class=\"dataframe\">\n",
       "  <thead>\n",
       "    <tr style=\"text-align: right;\">\n",
       "      <th></th>\n",
       "      <th>Z_m</th>\n",
       "      <th>dimuon_m</th>\n",
       "      <th>dilepton_m</th>\n",
       "      <th>leading_lepton_pt</th>\n",
       "      <th>trailing_lepton_pt</th>\n",
       "      <th>leading_muon_pt</th>\n",
       "      <th>trailing_muon_pt</th>\n",
       "      <th>dimuon_pt</th>\n",
       "      <th>rIsoOverPtl1</th>\n",
       "      <th>rIsoOverPtl2</th>\n",
       "      <th>rIsoOverPtm1</th>\n",
       "      <th>rIsoOverPtm2</th>\n",
       "      <th>ipSm1</th>\n",
       "      <th>ipSm2</th>\n",
       "    </tr>\n",
       "  </thead>\n",
       "  <tbody>\n",
       "    <tr>\n",
       "      <th>0</th>\n",
       "      <td>102.866327</td>\n",
       "      <td>3.202481</td>\n",
       "      <td>42.465544</td>\n",
       "      <td>11.249890</td>\n",
       "      <td>4.666080</td>\n",
       "      <td>15.860048</td>\n",
       "      <td>6.082700</td>\n",
       "      <td>21.709194</td>\n",
       "      <td>7.497133</td>\n",
       "      <td>13.581632</td>\n",
       "      <td>2.573745</td>\n",
       "      <td>1.173169</td>\n",
       "      <td>9.882916</td>\n",
       "      <td>5.031287</td>\n",
       "    </tr>\n",
       "    <tr>\n",
       "      <th>1</th>\n",
       "      <td>123.824175</td>\n",
       "      <td>3.203046</td>\n",
       "      <td>6.945626</td>\n",
       "      <td>11.246214</td>\n",
       "      <td>4.013403</td>\n",
       "      <td>15.853753</td>\n",
       "      <td>6.084754</td>\n",
       "      <td>21.704831</td>\n",
       "      <td>2.300131</td>\n",
       "      <td>13.586072</td>\n",
       "      <td>2.574767</td>\n",
       "      <td>1.172773</td>\n",
       "      <td>9.882916</td>\n",
       "      <td>5.031287</td>\n",
       "    </tr>\n",
       "    <tr>\n",
       "      <th>2</th>\n",
       "      <td>100.055824</td>\n",
       "      <td>3.215899</td>\n",
       "      <td>0.461662</td>\n",
       "      <td>11.247336</td>\n",
       "      <td>1.648208</td>\n",
       "      <td>15.871031</td>\n",
       "      <td>6.110661</td>\n",
       "      <td>21.746590</td>\n",
       "      <td>100.873146</td>\n",
       "      <td>13.584717</td>\n",
       "      <td>2.571964</td>\n",
       "      <td>1.167801</td>\n",
       "      <td>9.882916</td>\n",
       "      <td>5.031287</td>\n",
       "    </tr>\n",
       "    <tr>\n",
       "      <th>3</th>\n",
       "      <td>100.296534</td>\n",
       "      <td>3.207977</td>\n",
       "      <td>1.119576</td>\n",
       "      <td>11.242681</td>\n",
       "      <td>1.585346</td>\n",
       "      <td>15.857592</td>\n",
       "      <td>6.095163</td>\n",
       "      <td>21.718501</td>\n",
       "      <td>102.542061</td>\n",
       "      <td>13.590342</td>\n",
       "      <td>2.574144</td>\n",
       "      <td>1.170770</td>\n",
       "      <td>9.882916</td>\n",
       "      <td>5.031287</td>\n",
       "    </tr>\n",
       "    <tr>\n",
       "      <th>4</th>\n",
       "      <td>98.912342</td>\n",
       "      <td>3.207810</td>\n",
       "      <td>5.467503</td>\n",
       "      <td>11.253211</td>\n",
       "      <td>1.253741</td>\n",
       "      <td>15.861873</td>\n",
       "      <td>6.094266</td>\n",
       "      <td>21.721940</td>\n",
       "      <td>0.732423</td>\n",
       "      <td>13.577624</td>\n",
       "      <td>2.573449</td>\n",
       "      <td>1.170943</td>\n",
       "      <td>9.882916</td>\n",
       "      <td>5.031287</td>\n",
       "    </tr>\n",
       "  </tbody>\n",
       "</table>\n",
       "</div>"
      ],
      "text/plain": [
       "          Z_m  dimuon_m  dilepton_m  leading_lepton_pt  trailing_lepton_pt  \\\n",
       "0  102.866327  3.202481   42.465544          11.249890            4.666080   \n",
       "1  123.824175  3.203046    6.945626          11.246214            4.013403   \n",
       "2  100.055824  3.215899    0.461662          11.247336            1.648208   \n",
       "3  100.296534  3.207977    1.119576          11.242681            1.585346   \n",
       "4   98.912342  3.207810    5.467503          11.253211            1.253741   \n",
       "\n",
       "   leading_muon_pt  trailing_muon_pt  dimuon_pt  rIsoOverPtl1  rIsoOverPtl2  \\\n",
       "0        15.860048          6.082700  21.709194      7.497133     13.581632   \n",
       "1        15.853753          6.084754  21.704831      2.300131     13.586072   \n",
       "2        15.871031          6.110661  21.746590    100.873146     13.584717   \n",
       "3        15.857592          6.095163  21.718501    102.542061     13.590342   \n",
       "4        15.861873          6.094266  21.721940      0.732423     13.577624   \n",
       "\n",
       "   rIsoOverPtm1  rIsoOverPtm2     ipSm1     ipSm2  \n",
       "0      2.573745      1.173169  9.882916  5.031287  \n",
       "1      2.574767      1.172773  9.882916  5.031287  \n",
       "2      2.571964      1.167801  9.882916  5.031287  \n",
       "3      2.574144      1.170770  9.882916  5.031287  \n",
       "4      2.573449      1.170943  9.882916  5.031287  "
      ]
     },
     "execution_count": 29,
     "metadata": {},
     "output_type": "execute_result"
    }
   ],
   "source": [
    "test_data.head()"
   ]
  },
  {
   "cell_type": "code",
   "execution_count": 30,
   "metadata": {},
   "outputs": [],
   "source": [
    "test_data['XGBoost'] = test_prob[:,1]"
   ]
  },
  {
   "cell_type": "code",
   "execution_count": 31,
   "metadata": {},
   "outputs": [
    {
     "data": {
      "image/png": "[encoded data removed]",
      "text/plain": [
       "<Figure size 720x720 with 1 Axes>"
      ]
     },
     "metadata": {
      "needs_background": "light"
     },
     "output_type": "display_data"
    }
   ],
   "source": [
    "#plot \n",
    "plt.figure(figsize=(10,10))\n",
    "plt.hist(test_data.XGBoost, bins=100)\n",
    "plt.yscale('log')\n",
    "plt.xlabel('XGB', fontsize=13)\n",
    "plt.show()"
   ]
  },
  {
   "cell_type": "code",
   "execution_count": 32,
   "metadata": {},
   "outputs": [],
   "source": [
    "XGB_50 = test_data[test_data.XGBoost>0.5]\n",
    "XGB_70 = test_data[test_data.XGBoost>0.7]\n",
    "XGB_80 = test_data[test_data.XGBoost>0.8]\n",
    "XGB_85 = test_data[test_data.XGBoost>0.85]\n",
    "XGB_90 = test_data[test_data.XGBoost>0.9]\n",
    "XGB_95 = test_data[test_data.XGBoost>0.95]\n",
    "XGB_96 = test_data[test_data.XGBoost>0.96]\n",
    "XGB_97 = test_data[test_data.XGBoost>0.97]\n",
    "XGB_98 = test_data[test_data.XGBoost>0.98]\n",
    "XGB_99 = test_data[test_data.XGBoost>0.99]"
   ]
  },
  {
   "cell_type": "code",
   "execution_count": 33,
   "metadata": {},
   "outputs": [
    {
     "data": {
      "image/png": "[encoded data removed]",
      "text/plain": [
       "<Figure size 720x576 with 1 Axes>"
      ]
     },
     "metadata": {
      "needs_background": "light"
     },
     "output_type": "display_data"
    }
   ],
   "source": [
    "plt.figure(figsize=(10,8))\n",
    "plt.title('XGB cuts')\n",
    "m = plt.hist(test_data.Z_m, range=(55,100.86), bins=100, label='No Cut XGB')\n",
    "plt.hist(XGB_50.Z_m, range=(55,100.86), bins=100, label='XGB > 0.50')\n",
    "plt.hist(XGB_80.Z_m, range=(55,100.86), bins=100, label='XGB > 0.80')\n",
    "plt.plot([90.8, 90.8],[0, max(m[0])*13], color='r', ls='--')\n",
    "plt.yscale('log')\n",
    "plt.ylim(0.1, max(m[0])*10)\n",
    "plt.xlabel(r'Z_m', fontsize=13)\n",
    "plt.legend()\n",
    "plt.show()"
   ]
  },
  {
   "cell_type": "code",
   "execution_count": 34,
   "metadata": {},
   "outputs": [
    {
     "data": {
      "image/png": "[encoded data removed]",
      "text/plain": [
       "<Figure size 720x720 with 1 Axes>"
      ]
     },
     "metadata": {
      "needs_background": "light"
     },
     "output_type": "display_data"
    }
   ],
   "source": [
    "plt.figure(figsize=(10,10))\n",
    "#m = plt.hist(XGB_50.BMass, range=(4.8,5.8), bins=100)\n",
    "#plt.hist(XGB_80.BMass, range=(4.8,5.8), bins=100)\n",
    "plt.title('Deep xgb cuts')\n",
    "m0 = plt.hist(XGB_50.Z_m, range=(55,100.86), bins=100, label='XGB > 0.50')\n",
    "plt.hist(XGB_70.Z_m, range=(55,100.86), bins=100, label='XGB > 0.70')\n",
    "plt.hist(XGB_80.Z_m, range=(55,100.86), bins=100, label='XGB > 0.80')\n",
    "#plt.hist(XGB_85.Z_m, range=(55,100.86), bins=100, label='XGB > 0.85')\n",
    "plt.hist(XGB_90.Z_m, range=(55,100.86), bins=100, label='XGB > 0.90')\n",
    "#m = plt.hist(XGB_96.Z_m, range=(55,100.86), bins=100, label='XGB > 0.96')\n",
    "#plt.hist(XGB_97.Z_m, range=(55,100.86), bins=100, label='XGB > 0.97')\n",
    "#plt.hist(XGB_98.Z_m, range=(55,100.86), bins=100, label='XGB > 0.98')\n",
    "#plt.hist(XGB_99.Z_m, range=(55,100.86), bins=100, label='XGB > 0.99')\n",
    "#plt.plot([5.279, 5.279],[0, max(m0[0])*1.3], color='r', ls='--')\n",
    "plt.ylim(0, max(m0[0])*1.2)\n",
    "plt.xlabel(r'Z_m', fontsize=13)\n",
    "plt.legend()\n",
    "plt.show()"
   ]
  },
  {
   "cell_type": "code",
   "execution_count": 39,
   "metadata": {},
   "outputs": [
    {
     "data": {
      "image/png": "[encoded data removed]",
      "text/plain": [
       "<Figure size 720x576 with 1 Axes>"
      ]
     },
     "metadata": {
      "needs_background": "light"
     },
     "output_type": "display_data"
    }
   ],
   "source": [
    "plt.figure(figsize=(10,8))\n",
    "plt.title('XGB cuts')\n",
    "m = plt.hist(test_data.dimuon_m, range=(2.85,3.5), bins=100, label='No Cut XGB')\n",
    "plt.hist(XGB_50.dimuon_m, range=(2.85,3.5), bins=100, label='XGB > 0.50')\n",
    "plt.hist(XGB_80.dimuon_m, range=(2.85,3.5), bins=100, label='XGB > 0.80')\n",
    "plt.plot([3.095, 3.095],[0, max(m[0])*13], color='r', ls='--')\n",
    "plt.yscale('log')\n",
    "plt.ylim(0.1, max(m[0])*10)\n",
    "plt.xlabel(r'dimuon_m', fontsize=13)\n",
    "plt.legend()\n",
    "plt.show()"
   ]
  },
  {
   "cell_type": "code",
   "execution_count": 41,
   "metadata": {},
   "outputs": [
    {
     "data": {
      "image/png": "[encoded data removed]",
      "text/plain": [
       "<Figure size 720x720 with 1 Axes>"
      ]
     },
     "metadata": {
      "needs_background": "light"
     },
     "output_type": "display_data"
    }
   ],
   "source": [
    "plt.figure(figsize=(10,10))\n",
    "#m = plt.hist(XGB_50.BMass, range=(4.8,5.8), bins=100)\n",
    "#plt.hist(XGB_80.BMass, range=(4.8,5.8), bins=100)\n",
    "plt.title('Deep xgb cuts')\n",
    "m0 = plt.hist(XGB_50.dimuon_m, range=(2.85,3.5), bins=100, label='XGB > 0.50')\n",
    "plt.hist(XGB_70.dimuon_m, range=(2.85,3.5), bins=100, label='XGB > 0.70')\n",
    "plt.hist(XGB_80.dimuon_m, range=(2.85,3.5), bins=100, label='XGB > 0.80')\n",
    "#plt.hist(XGB_85.Z_m, range=(55,100.86), bins=100, label='XGB > 0.85')\n",
    "plt.hist(XGB_90.dimuon_m, range=(2.85,3.5), bins=100, label='XGB > 0.90')\n",
    "#m = plt.hist(XGB_96.Z_m, range=(55,100.86), bins=100, label='XGB > 0.96')\n",
    "#plt.hist(XGB_97.Z_m, range=(55,100.86), bins=100, label='XGB > 0.97')\n",
    "#plt.hist(XGB_98.Z_m, range=(55,100.86), bins=100, label='XGB > 0.98')\n",
    "#plt.hist(XGB_99.Z_m, range=(55,100.86), bins=100, label='XGB > 0.99')\n",
    "#plt.plot([5.279, 5.279],[0, max(m0[0])*1.3], color='r', ls='--')\n",
    "plt.ylim(0, max(m0[0])*1.2)\n",
    "plt.xlabel(r'dimuon_m', fontsize=13)\n",
    "plt.legend()\n",
    "plt.show()"
   ]
  },
  {
   "cell_type": "code",
   "execution_count": null,
   "metadata": {},
   "outputs": [],
   "source": []
  }
 ],
 "metadata": {
  "kernelspec": {
   "display_name": "xgb",
   "language": "python",
   "name": "xgb"
  },
  "language_info": {
   "codemirror_mode": {
    "name": "ipython",
    "version": 3
   },
   "file_extension": ".py",
   "mimetype": "text/x-python",
   "name": "python",
   "nbconvert_exporter": "python",
   "pygments_lexer": "ipython3",
   "version": "3.8.3"
  }
 },
 "nbformat": 4,
 "nbformat_minor": 4
}
